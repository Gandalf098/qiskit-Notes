{
  "nbformat": 4,
  "nbformat_minor": 0,
  "metadata": {
    "colab": {
      "name": "Quantum_Assignment.ipynb",
      "provenance": [],
      "authorship_tag": "ABX9TyNvglzds0dGx5MBka3rpg8Y",
      "include_colab_link": true
    },
    "kernelspec": {
      "name": "python3",
      "display_name": "Python 3"
    }
  },
  "cells": [
    {
      "cell_type": "markdown",
      "metadata": {
        "id": "view-in-github",
        "colab_type": "text"
      },
      "source": [
        "<a href=\"https://colab.research.google.com/github/iGeek098/qiskit-Notes/blob/master/Quantum_Assignment.ipynb\" target=\"_parent\"><img src=\"https://colab.research.google.com/assets/colab-badge.svg\" alt=\"Open In Colab\"/></a>"
      ]
    },
    {
      "cell_type": "code",
      "metadata": {
        "id": "G_I0q3fs3IvV",
        "colab_type": "code",
        "outputId": "f80cfdd3-8cf6-4251-dcb8-962fb04554fb",
        "colab": {
          "base_uri": "https://localhost:8080/",
          "height": 1000
        }
      },
      "source": [
        "!pip install qiskit"
      ],
      "execution_count": 2,
      "outputs": [
        {
          "output_type": "stream",
          "text": [
            "Collecting qiskit\n",
            "  Downloading https://files.pythonhosted.org/packages/cb/02/4760f696aa563b0da688b71697b46c2f329832a36e6ae13622ed70960fb4/qiskit-0.17.0.tar.gz\n",
            "Collecting qiskit-terra==0.12.0\n",
            "\u001b[?25l  Downloading https://files.pythonhosted.org/packages/30/6e/3aada46aa05013279b918002a6123d9cf5d4014d65cef90f7f5306969ccc/qiskit_terra-0.12.0-cp36-cp36m-manylinux2010_x86_64.whl (2.9MB)\n",
            "\u001b[K     |████████████████████████████████| 2.9MB 2.8MB/s \n",
            "\u001b[?25hCollecting qiskit-aer==0.4.1\n",
            "\u001b[?25l  Downloading https://files.pythonhosted.org/packages/8e/02/0869865f03d799d135a550426f4f22d344b2eb6f555b42ff028ec16c8ebd/qiskit_aer-0.4.1-cp36-cp36m-manylinux2010_x86_64.whl (23.0MB)\n",
            "\u001b[K     |████████████████████████████████| 23.0MB 1.6MB/s \n",
            "\u001b[?25hCollecting qiskit-ibmq-provider==0.6.0\n",
            "\u001b[?25l  Downloading https://files.pythonhosted.org/packages/ff/7d/94c7fada92532f1133ecd65dc08b1b12a2eb34e3c73b1ca515ef439b0a0a/qiskit_ibmq_provider-0.6.0-py3-none-any.whl (149kB)\n",
            "\u001b[K     |████████████████████████████████| 153kB 48.5MB/s \n",
            "\u001b[?25hCollecting qiskit-ignis==0.2.0\n",
            "\u001b[?25l  Downloading https://files.pythonhosted.org/packages/78/f2/f4f89c65d2c13f473092f7e800519836611ddeeaab8d4591a70555b26a37/qiskit_ignis-0.2.0-py3-none-any.whl (100kB)\n",
            "\u001b[K     |████████████████████████████████| 102kB 11.5MB/s \n",
            "\u001b[?25hCollecting qiskit-aqua==0.6.5\n",
            "\u001b[?25l  Downloading https://files.pythonhosted.org/packages/25/2d/ef2b2672c544a85a799dccc0de3c8dab88bee1b92cc84c302e01808eecfb/qiskit_aqua-0.6.5-py3-none-any.whl (1.8MB)\n",
            "\u001b[K     |████████████████████████████████| 1.8MB 41.8MB/s \n",
            "\u001b[?25hCollecting ply>=3.10\n",
            "\u001b[?25l  Downloading https://files.pythonhosted.org/packages/a3/58/35da89ee790598a0700ea49b2a66594140f44dec458c07e8e3d4979137fc/ply-3.11-py2.py3-none-any.whl (49kB)\n",
            "\u001b[K     |████████████████████████████████| 51kB 6.6MB/s \n",
            "\u001b[?25hCollecting marshmallow-polyfield<6,>=5.7\n",
            "  Downloading https://files.pythonhosted.org/packages/0c/7e/ceb805d05cd03709b8de122b4ac1e736c4eb91d05281ad2a2bcb484accef/marshmallow-polyfield-5.9.tar.gz\n",
            "Collecting marshmallow<4,>=3\n",
            "\u001b[?25l  Downloading https://files.pythonhosted.org/packages/d8/0b/bb43d7610e71d87e8537025841c248471dbf938c676d32b8f94c82148c04/marshmallow-3.5.1-py2.py3-none-any.whl (45kB)\n",
            "\u001b[K     |████████████████████████████████| 51kB 6.9MB/s \n",
            "\u001b[?25hRequirement already satisfied: numpy>=1.13 in /usr/local/lib/python3.6/dist-packages (from qiskit-terra==0.12.0->qiskit) (1.18.2)\n",
            "Requirement already satisfied: networkx>=2.2; python_version > \"3.5\" in /usr/local/lib/python3.6/dist-packages (from qiskit-terra==0.12.0->qiskit) (2.4)\n",
            "Requirement already satisfied: dill>=0.3 in /usr/local/lib/python3.6/dist-packages (from qiskit-terra==0.12.0->qiskit) (0.3.1.1)\n",
            "Collecting sympy>=1.3\n",
            "\u001b[?25l  Downloading https://files.pythonhosted.org/packages/ce/5b/acc12e3c0d0be685601fc2b2d20ed18dc0bf461380e763afc9d0a548deb0/sympy-1.5.1-py2.py3-none-any.whl (5.6MB)\n",
            "\u001b[K     |████████████████████████████████| 5.6MB 42.7MB/s \n",
            "\u001b[?25hRequirement already satisfied: scipy>=1.0 in /usr/local/lib/python3.6/dist-packages (from qiskit-terra==0.12.0->qiskit) (1.4.1)\n",
            "Requirement already satisfied: psutil>=5 in /usr/local/lib/python3.6/dist-packages (from qiskit-terra==0.12.0->qiskit) (5.4.8)\n",
            "Requirement already satisfied: jsonschema>=2.6 in /usr/local/lib/python3.6/dist-packages (from qiskit-terra==0.12.0->qiskit) (2.6.0)\n",
            "Collecting pybind11>=2.4\n",
            "\u001b[?25l  Downloading https://files.pythonhosted.org/packages/89/e3/d576f6f02bc75bacbc3d42494e8f1d063c95617d86648dba243c2cb3963e/pybind11-2.5.0-py2.py3-none-any.whl (296kB)\n",
            "\u001b[K     |████████████████████████████████| 296kB 44.7MB/s \n",
            "\u001b[?25hRequirement already satisfied: cython>=0.27.1 in /usr/local/lib/python3.6/dist-packages (from qiskit-aer==0.4.1->qiskit) (0.29.16)\n",
            "Collecting nest-asyncio!=1.1.0,>=1.0.0\n",
            "  Downloading https://files.pythonhosted.org/packages/fb/98/f4add7297a8d586fe7ac756707673d03d97b9ed7c171291bb43889dbfbc5/nest_asyncio-1.3.2-py3-none-any.whl\n",
            "Collecting websockets<8,>=7\n",
            "\u001b[?25l  Downloading https://files.pythonhosted.org/packages/43/71/8bfa882b9c502c36e5c9ef6732969533670d2b039cbf95a82ced8f762b80/websockets-7.0-cp36-cp36m-manylinux1_x86_64.whl (63kB)\n",
            "\u001b[K     |████████████████████████████████| 71kB 9.6MB/s \n",
            "\u001b[?25hRequirement already satisfied: requests>=2.19 in /usr/local/lib/python3.6/dist-packages (from qiskit-ibmq-provider==0.6.0->qiskit) (2.21.0)\n",
            "Collecting requests-ntlm>=1.1.0\n",
            "  Downloading https://files.pythonhosted.org/packages/03/4b/8b9a1afde8072c4d5710d9fa91433d504325821b038e00237dc8d6d833dc/requests_ntlm-1.1.0-py2.py3-none-any.whl\n",
            "Collecting arrow>=0.15.5\n",
            "\u001b[?25l  Downloading https://files.pythonhosted.org/packages/92/fa/f84896dede5decf284e6922134bf03fd26c90870bbf8015f4e8ee2a07bcc/arrow-0.15.5-py2.py3-none-any.whl (46kB)\n",
            "\u001b[K     |████████████████████████████████| 51kB 7.2MB/s \n",
            "\u001b[?25hRequirement already satisfied: setuptools>=40.1.0 in /usr/local/lib/python3.6/dist-packages (from qiskit-ignis==0.2.0->qiskit) (46.1.3)\n",
            "Requirement already satisfied: h5py in /usr/local/lib/python3.6/dist-packages (from qiskit-aqua==0.6.5->qiskit) (2.10.0)\n",
            "Requirement already satisfied: scikit-learn>=0.20.0 in /usr/local/lib/python3.6/dist-packages (from qiskit-aqua==0.6.5->qiskit) (0.22.2.post1)\n",
            "Collecting quandl\n",
            "  Downloading https://files.pythonhosted.org/packages/07/ab/8cd479fba8a9b197a43a0d55dd534b066fb8e5a0a04b5c0384cbc5d663aa/Quandl-3.5.0-py2.py3-none-any.whl\n",
            "Collecting dlx\n",
            "  Downloading https://files.pythonhosted.org/packages/54/c0/b8fb5bb727e983b6f5251433ef941b48f38c65bb0bd6ec509e9185bcd406/dlx-1.0.4.tar.gz\n",
            "Requirement already satisfied: fastdtw in /usr/local/lib/python3.6/dist-packages (from qiskit-aqua==0.6.5->qiskit) (0.3.4)\n",
            "Collecting docplex\n",
            "\u001b[?25l  Downloading https://files.pythonhosted.org/packages/03/a8/5dc675dbe179a2bd4d1d40522f009b4517ad32890d55ae49449709128d0a/docplex-2.13.184.tar.gz (571kB)\n",
            "\u001b[K     |████████████████████████████████| 573kB 17.4MB/s \n",
            "\u001b[?25hCollecting pyscf; sys_platform == \"linux\" or (python_version < \"3.8\" and sys_platform != \"win32\")\n",
            "\u001b[?25l  Downloading https://files.pythonhosted.org/packages/7a/ea/8ebe88368935dcc9a1a309764846e0bf5d04352d44067741aab3626ceb7f/pyscf-1.7.1-cp36-cp36m-manylinux1_x86_64.whl (24.3MB)\n",
            "\u001b[K     |████████████████████████████████| 24.3MB 178kB/s \n",
            "\u001b[?25hRequirement already satisfied: decorator>=4.3.0 in /usr/local/lib/python3.6/dist-packages (from networkx>=2.2; python_version > \"3.5\"->qiskit-terra==0.12.0->qiskit) (4.4.2)\n",
            "Requirement already satisfied: mpmath>=0.19 in /usr/local/lib/python3.6/dist-packages (from sympy>=1.3->qiskit-terra==0.12.0->qiskit) (1.1.0)\n",
            "Requirement already satisfied: urllib3<1.25,>=1.21.1 in /usr/local/lib/python3.6/dist-packages (from requests>=2.19->qiskit-ibmq-provider==0.6.0->qiskit) (1.24.3)\n",
            "Requirement already satisfied: idna<2.9,>=2.5 in /usr/local/lib/python3.6/dist-packages (from requests>=2.19->qiskit-ibmq-provider==0.6.0->qiskit) (2.8)\n",
            "Requirement already satisfied: chardet<3.1.0,>=3.0.2 in /usr/local/lib/python3.6/dist-packages (from requests>=2.19->qiskit-ibmq-provider==0.6.0->qiskit) (3.0.4)\n",
            "Requirement already satisfied: certifi>=2017.4.17 in /usr/local/lib/python3.6/dist-packages (from requests>=2.19->qiskit-ibmq-provider==0.6.0->qiskit) (2019.11.28)\n",
            "Collecting ntlm-auth>=1.0.2\n",
            "  Downloading https://files.pythonhosted.org/packages/50/09/5e397eb18685b14fd8b209e26cdb4fa6451c82c1bcc651fef05fa73e7b27/ntlm_auth-1.4.0-py2.py3-none-any.whl\n",
            "Collecting cryptography>=1.3\n",
            "\u001b[?25l  Downloading https://files.pythonhosted.org/packages/8f/2d/29d2638b8df016526182594166c220913dafba3da0019b0776ff1bbc8ede/cryptography-2.9-cp35-abi3-manylinux2010_x86_64.whl (2.7MB)\n",
            "\u001b[K     |████████████████████████████████| 2.7MB 43.9MB/s \n",
            "\u001b[?25hRequirement already satisfied: python-dateutil in /usr/local/lib/python3.6/dist-packages (from arrow>=0.15.5->qiskit-ibmq-provider==0.6.0->qiskit) (2.8.1)\n",
            "Requirement already satisfied: six in /usr/local/lib/python3.6/dist-packages (from h5py->qiskit-aqua==0.6.5->qiskit) (1.12.0)\n",
            "Requirement already satisfied: joblib>=0.11 in /usr/local/lib/python3.6/dist-packages (from scikit-learn>=0.20.0->qiskit-aqua==0.6.5->qiskit) (0.14.1)\n",
            "Requirement already satisfied: more-itertools in /usr/local/lib/python3.6/dist-packages (from quandl->qiskit-aqua==0.6.5->qiskit) (8.2.0)\n",
            "Requirement already satisfied: pandas>=0.14 in /usr/local/lib/python3.6/dist-packages (from quandl->qiskit-aqua==0.6.5->qiskit) (1.0.3)\n",
            "Collecting inflection>=0.3.1\n",
            "  Downloading https://files.pythonhosted.org/packages/52/c1/36be286d85dbd76527fb613527222a795d7c071da195fa916e7bf3cb03cb/inflection-0.4.0-py2.py3-none-any.whl\n",
            "Requirement already satisfied: cffi!=1.11.3,>=1.8 in /usr/local/lib/python3.6/dist-packages (from cryptography>=1.3->requests-ntlm>=1.1.0->qiskit-ibmq-provider==0.6.0->qiskit) (1.14.0)\n",
            "Requirement already satisfied: pytz>=2017.2 in /usr/local/lib/python3.6/dist-packages (from pandas>=0.14->quandl->qiskit-aqua==0.6.5->qiskit) (2018.9)\n",
            "Requirement already satisfied: pycparser in /usr/local/lib/python3.6/dist-packages (from cffi!=1.11.3,>=1.8->cryptography>=1.3->requests-ntlm>=1.1.0->qiskit-ibmq-provider==0.6.0->qiskit) (2.20)\n",
            "Building wheels for collected packages: qiskit, marshmallow-polyfield, dlx, docplex\n",
            "  Building wheel for qiskit (setup.py) ... \u001b[?25l\u001b[?25hdone\n",
            "  Created wheel for qiskit: filename=qiskit-0.17.0-cp36-none-any.whl size=2897 sha256=b9230f7120c9107f35eeba08982f778464373eb599df01bf2203b8efc5717a4e\n",
            "  Stored in directory: /root/.cache/pip/wheels/a8/7e/29/98cef5ff01e3081f6d5de2b30b7acc75aa32222a17dd9db3ff\n",
            "  Building wheel for marshmallow-polyfield (setup.py) ... \u001b[?25l\u001b[?25hdone\n",
            "  Created wheel for marshmallow-polyfield: filename=marshmallow_polyfield-5.9-cp36-none-any.whl size=8537 sha256=31eccc522db7dfd24994bd48ede867f15a32c1fca94a1306df62125db8daa52e\n",
            "  Stored in directory: /root/.cache/pip/wheels/69/27/3e/7472f75eab2db111aa387715fe009af15899459517fc1a1906\n",
            "  Building wheel for dlx (setup.py) ... \u001b[?25l\u001b[?25hdone\n",
            "  Created wheel for dlx: filename=dlx-1.0.4-cp36-none-any.whl size=5712 sha256=70c6adb867066a22bb20ebd2be07d620619dbebf1985da926833202082869b28\n",
            "  Stored in directory: /root/.cache/pip/wheels/bb/ba/15/fdd0deb104df3254912998150ba9245668db06b00af5912d1a\n",
            "  Building wheel for docplex (setup.py) ... \u001b[?25l\u001b[?25hdone\n",
            "  Created wheel for docplex: filename=docplex-2.13.184-cp36-none-any.whl size=633100 sha256=a7f80cc7cead4c59e8162fb2571d697bd19fc35b955b6098bd72e923d11fa4cf\n",
            "  Stored in directory: /root/.cache/pip/wheels/35/67/46/e9d3c1cb652addc314816a29396c1c427c2735e8f6c656aab3\n",
            "Successfully built qiskit marshmallow-polyfield dlx docplex\n",
            "Installing collected packages: ply, marshmallow, marshmallow-polyfield, sympy, qiskit-terra, pybind11, qiskit-aer, nest-asyncio, websockets, ntlm-auth, cryptography, requests-ntlm, arrow, qiskit-ibmq-provider, qiskit-ignis, inflection, quandl, dlx, docplex, pyscf, qiskit-aqua, qiskit\n",
            "  Found existing installation: sympy 1.1.1\n",
            "    Uninstalling sympy-1.1.1:\n",
            "      Successfully uninstalled sympy-1.1.1\n",
            "Successfully installed arrow-0.15.5 cryptography-2.9 dlx-1.0.4 docplex-2.13.184 inflection-0.4.0 marshmallow-3.5.1 marshmallow-polyfield-5.9 nest-asyncio-1.3.2 ntlm-auth-1.4.0 ply-3.11 pybind11-2.5.0 pyscf-1.7.1 qiskit-0.17.0 qiskit-aer-0.4.1 qiskit-aqua-0.6.5 qiskit-ibmq-provider-0.6.0 qiskit-ignis-0.2.0 qiskit-terra-0.12.0 quandl-3.5.0 requests-ntlm-1.1.0 sympy-1.5.1 websockets-7.0\n"
          ],
          "name": "stdout"
        }
      ]
    },
    {
      "cell_type": "code",
      "metadata": {
        "id": "wCDE-hXE52EI",
        "colab_type": "code",
        "colab": {}
      },
      "source": [
        "from qiskit import *\n",
        "%matplotlib notebook"
      ],
      "execution_count": 0,
      "outputs": []
    },
    {
      "cell_type": "markdown",
      "metadata": {
        "id": "_XLHFqRkCyVF",
        "colab_type": "text"
      },
      "source": [
        "Design a reversible circuit, using NOT, CNOT, Toffoli, and Fredkin gates, which acts on the four inputs  a,b,c,d , to perform the operation  swap243(a,b,c,d)  which swaps  b  and  d  if  a=0 , and swaps  c  and  d  if  a=1 . Bit  a  should be left unchanged."
      ]
    },
    {
      "cell_type": "code",
      "metadata": {
        "id": "jpIPYDkV6ODd",
        "colab_type": "code",
        "colab": {}
      },
      "source": [
        "circ = QuantumCircuit(4)"
      ],
      "execution_count": 0,
      "outputs": []
    },
    {
      "cell_type": "code",
      "metadata": {
        "id": "yNTkag_S6S_k",
        "colab_type": "code",
        "outputId": "d09ac2a2-f668-4492-c8ae-c8c9c21acfb0",
        "colab": {
          "base_uri": "https://localhost:8080/",
          "height": 168
        }
      },
      "source": [
        "circ.draw()"
      ],
      "execution_count": 5,
      "outputs": [
        {
          "output_type": "execute_result",
          "data": {
            "text/html": [
              "<pre style=\"word-wrap: normal;white-space: pre;background: #fff0;line-height: 1.1;font-family: &quot;Courier New&quot;,Courier,monospace\">        \n",
              "q_0: |0>\n",
              "        \n",
              "q_1: |0>\n",
              "        \n",
              "q_2: |0>\n",
              "        \n",
              "q_3: |0>\n",
              "        </pre>"
            ],
            "text/plain": [
              "        \n",
              "q_0: |0>\n",
              "        \n",
              "q_1: |0>\n",
              "        \n",
              "q_2: |0>\n",
              "        \n",
              "q_3: |0>\n",
              "        "
            ]
          },
          "metadata": {
            "tags": []
          },
          "execution_count": 5
        }
      ]
    },
    {
      "cell_type": "code",
      "metadata": {
        "id": "ISk7b9Ip6s50",
        "colab_type": "code",
        "outputId": "c0d4d230-3b45-455c-df9e-5cd9792bcc49",
        "colab": {
          "base_uri": "https://localhost:8080/",
          "height": 34
        }
      },
      "source": [
        "a, b, c, d = 0, 1, 2, 3\n",
        "\n",
        "circ.cswap(a, b, d) # fredkin gate\n",
        "circ.x(a)\n",
        "circ.cswap(a, c, d)\n",
        "circ.x(a)"
      ],
      "execution_count": 6,
      "outputs": [
        {
          "output_type": "execute_result",
          "data": {
            "text/plain": [
              "<qiskit.circuit.instructionset.InstructionSet at 0x7f85d4094be0>"
            ]
          },
          "metadata": {
            "tags": []
          },
          "execution_count": 6
        }
      ]
    },
    {
      "cell_type": "code",
      "metadata": {
        "id": "xy7HLZbt8PXa",
        "colab_type": "code",
        "outputId": "05c4b887-ce4d-409e-d46f-dbf34f383148",
        "colab": {
          "base_uri": "https://localhost:8080/",
          "height": 168
        }
      },
      "source": [
        "circ.draw()"
      ],
      "execution_count": 7,
      "outputs": [
        {
          "output_type": "execute_result",
          "data": {
            "text/html": [
              "<pre style=\"word-wrap: normal;white-space: pre;background: #fff0;line-height: 1.1;font-family: &quot;Courier New&quot;,Courier,monospace\">           ┌───┐   ┌───┐\n",
              "q_0: |0>─■─┤ X ├─■─┤ X ├\n",
              "         │ └───┘ │ └───┘\n",
              "q_1: |0>─X───────┼──────\n",
              "         │       │      \n",
              "q_2: |0>─┼───────X──────\n",
              "         │       │      \n",
              "q_3: |0>─X───────X──────\n",
              "                        </pre>"
            ],
            "text/plain": [
              "           ┌───┐   ┌───┐\n",
              "q_0: |0>─■─┤ X ├─■─┤ X ├\n",
              "         │ └───┘ │ └───┘\n",
              "q_1: |0>─X───────┼──────\n",
              "         │       │      \n",
              "q_2: |0>─┼───────X──────\n",
              "         │       │      \n",
              "q_3: |0>─X───────X──────\n",
              "                        "
            ]
          },
          "metadata": {
            "tags": []
          },
          "execution_count": 7
        }
      ]
    },
    {
      "cell_type": "markdown",
      "metadata": {
        "id": "o4olpeATCq2L",
        "colab_type": "text"
      },
      "source": [
        "Design a reversible circuit, using NOT, CNOT, Toffoli, and Fredkin gates, which acts on the four inputs  a,b,c,d , to swap  c  and  d  only when both  a=1  and  b=1 . You may use a fifth bit  e , given as initialized to  e=0 , in your circuit; this bit must also end as  e=0 .\n"
      ]
    },
    {
      "cell_type": "code",
      "metadata": {
        "id": "zGeuRZ8BCGzW",
        "colab_type": "code",
        "colab": {
          "base_uri": "https://localhost:8080/",
          "height": 34
        },
        "outputId": "a90dee91-e109-4f9a-ab79-02ef8dfbf262"
      },
      "source": [
        "circ2 = QuantumCircuit(5)\n",
        "\n",
        "a, b, c, d, e = 0, 1, 2, 3, 4 # qubit e is always zero, and it should be output as zero\n",
        "\n",
        "circ2.ccx(a, b, e) #toffoli gate\n",
        "                  # e = a & b\n",
        "circ2.cswap(e, c, d)      #fredkin gate equals cswap ( (a & b), c, d )\n",
        "                         #we only messed with e\n",
        "                         #now cleaning the mess to keep it quantum ;)\n",
        "circ2.ccx(a, b, e) # isn't that Qute ?\n"
      ],
      "execution_count": 8,
      "outputs": [
        {
          "output_type": "execute_result",
          "data": {
            "text/plain": [
              "<qiskit.circuit.instructionset.InstructionSet at 0x7f85d40a7588>"
            ]
          },
          "metadata": {
            "tags": []
          },
          "execution_count": 8
        }
      ]
    },
    {
      "cell_type": "code",
      "metadata": {
        "id": "KJEUUQuxDrXE",
        "colab_type": "code",
        "colab": {
          "base_uri": "https://localhost:8080/",
          "height": 202
        },
        "outputId": "35e4fa26-597a-4ec9-a93d-61068c08f6e8"
      },
      "source": [
        "circ2.draw()"
      ],
      "execution_count": 9,
      "outputs": [
        {
          "output_type": "execute_result",
          "data": {
            "text/html": [
              "<pre style=\"word-wrap: normal;white-space: pre;background: #fff0;line-height: 1.1;font-family: &quot;Courier New&quot;,Courier,monospace\">                     \n",
              "q_0: |0>──■───────■──\n",
              "          │       │  \n",
              "q_1: |0>──■───────■──\n",
              "          │       │  \n",
              "q_2: |0>──┼───X───┼──\n",
              "          │   │   │  \n",
              "q_3: |0>──┼───X───┼──\n",
              "        ┌─┴─┐ │ ┌─┴─┐\n",
              "q_4: |0>┤ X ├─■─┤ X ├\n",
              "        └───┘   └───┘</pre>"
            ],
            "text/plain": [
              "                     \n",
              "q_0: |0>──■───────■──\n",
              "          │       │  \n",
              "q_1: |0>──■───────■──\n",
              "          │       │  \n",
              "q_2: |0>──┼───X───┼──\n",
              "          │   │   │  \n",
              "q_3: |0>──┼───X───┼──\n",
              "        ┌─┴─┐ │ ┌─┴─┐\n",
              "q_4: |0>┤ X ├─■─┤ X ├\n",
              "        └───┘   └───┘"
            ]
          },
          "metadata": {
            "tags": []
          },
          "execution_count": 9
        }
      ]
    },
    {
      "cell_type": "code",
      "metadata": {
        "id": "qcMl0sg5D9rl",
        "colab_type": "code",
        "colab": {
          "base_uri": "https://localhost:8080/",
          "height": 34
        },
        "outputId": "5a952c76-11fc-429f-d2dd-feeddca80e45"
      },
      "source": [
        "circ3 = QuantumCircuit(5) #Qute symmetry\n",
        "\n",
        "a, b, c, d, e = 0, 1, 2, 3, 4 # qubit e is always zero, and it should be output as zero\n",
        "\n",
        "circ3.cswap(a, b, e) #fredkin gate\n",
        "circ3.cswap(e, c, d) #fredkin gate equals cswap ( (a & b), c, d )\n",
        "circ3.cswap(a, b, e) # fredkin\n"
      ],
      "execution_count": 10,
      "outputs": [
        {
          "output_type": "execute_result",
          "data": {
            "text/plain": [
              "<qiskit.circuit.instructionset.InstructionSet at 0x7f85d3c1d978>"
            ]
          },
          "metadata": {
            "tags": []
          },
          "execution_count": 10
        }
      ]
    },
    {
      "cell_type": "code",
      "metadata": {
        "id": "NILOc9V-EbwM",
        "colab_type": "code",
        "colab": {
          "base_uri": "https://localhost:8080/",
          "height": 202
        },
        "outputId": "fff7a8f1-9fbd-4421-883f-a399b9fd0c94"
      },
      "source": [
        "circ3.draw()"
      ],
      "execution_count": 11,
      "outputs": [
        {
          "output_type": "execute_result",
          "data": {
            "text/html": [
              "<pre style=\"word-wrap: normal;white-space: pre;background: #fff0;line-height: 1.1;font-family: &quot;Courier New&quot;,Courier,monospace\">                 \n",
              "q_0: |0>─■─────■─\n",
              "         │     │ \n",
              "q_1: |0>─X─────X─\n",
              "         │     │ \n",
              "q_2: |0>─┼──X──┼─\n",
              "         │  │  │ \n",
              "q_3: |0>─┼──X──┼─\n",
              "         │  │  │ \n",
              "q_4: |0>─X──■──X─\n",
              "                 </pre>"
            ],
            "text/plain": [
              "                 \n",
              "q_0: |0>─■─────■─\n",
              "         │     │ \n",
              "q_1: |0>─X─────X─\n",
              "         │     │ \n",
              "q_2: |0>─┼──X──┼─\n",
              "         │  │  │ \n",
              "q_3: |0>─┼──X──┼─\n",
              "         │  │  │ \n",
              "q_4: |0>─X──■──X─\n",
              "                 "
            ]
          },
          "metadata": {
            "tags": []
          },
          "execution_count": 11
        }
      ]
    },
    {
      "cell_type": "markdown",
      "metadata": {
        "id": "_EqbnpNOHyuZ",
        "colab_type": "text"
      },
      "source": [
        "Design a reversible circuit, using NOT, CNOT, Toffoli, and Fredkin gates, which acts on the two arbitrary inputs  a,b , and the two fixed inputs  c=0 ,  d=0 , to produce four bits  a′ ,  b′ ,  c′ ,  d′  of output, where only the  nth  output is  1  (the others are all  0 ), and  n=2b+a ."
      ]
    },
    {
      "cell_type": "code",
      "metadata": {
        "id": "j5szr0IFEdVA",
        "colab_type": "code",
        "colab": {
          "base_uri": "https://localhost:8080/",
          "height": 34
        },
        "outputId": "ca87c566-5207-4839-e50f-508aa36edb64"
      },
      "source": [
        "circ4 = QuantumCircuit(4)\n",
        "\n",
        "a, b, c, d = 0, 1, 2, 3\n",
        "\n",
        "#not(a) # base case\n",
        "# if a and not b, then we need to swap a , b\n",
        "circ4.x(b)\n",
        "circ4.ccx( a, b, c )  #c = a & not(b)\n",
        "circ4.cswap( c, a, b )#do it!\n",
        "                      #a = a or not(b) if (a & not(b)), b = not(b) or a if (a & not(b)), c = a & not(b)\n",
        "                      \n",
        "                      #a = a or 0      if (a & not(b)), b = not(b) or 1 if (a & not(b)), c = a & not(b)\n",
        "\n",
        "#circ4.ccx( a, b, c )\n",
        "                      # ---now c = c----, c = a & not(b)\n",
        "circ4.x(b)            # now b = b\n",
        "\n",
        "circ4.x(a)\n",
        "# if b and not a, swap b and c\n",
        "circ4.ccx( a, b, d )  #d = not(a) & b\n",
        "circ4.cswap( d, b, c )#do it ?!\n",
        "                      #b = b or c if (not(a) & b), c = c or b if (not(a) & b), d = not(a) & b\n",
        "                      #b = b or 0 if (not(a) & b), c = c or 1 if (not(a) & b), d = not(a) & b\n",
        "                      #c = a & not(b)\n",
        "                      # a = not(a) #we need to apply not(a) only if one of the above worked (c or d)\n",
        "circ4.cnot(c, a)\n",
        "circ4.cnot(d, a)\n",
        "                      #would work since not both of them are true at the same time\n",
        "                      # a = a, b = b, c = a & not(b), d = not(a) & b\n",
        "circ4.ccx(a, b, d)    # d = a & b"
      ],
      "execution_count": 16,
      "outputs": [
        {
          "output_type": "execute_result",
          "data": {
            "text/plain": [
              "<qiskit.circuit.instructionset.InstructionSet at 0x7f85d3b58cc0>"
            ]
          },
          "metadata": {
            "tags": []
          },
          "execution_count": 16
        }
      ]
    },
    {
      "cell_type": "code",
      "metadata": {
        "id": "YhxgeS2uHosU",
        "colab_type": "code",
        "colab": {
          "base_uri": "https://localhost:8080/",
          "height": 168
        },
        "outputId": "e5f3a6e3-398d-429e-fc92-1c2f3cbcb9c7"
      },
      "source": [
        "circ4.draw()"
      ],
      "execution_count": 17,
      "outputs": [
        {
          "output_type": "execute_result",
          "data": {
            "text/html": [
              "<pre style=\"word-wrap: normal;white-space: pre;background: #fff0;line-height: 1.1;font-family: &quot;Courier New&quot;,Courier,monospace\">                     ┌───┐        ┌───┐┌───┐     \n",
              "q_0: |0>───────■───X─┤ X ├──■─────┤ X ├┤ X ├──■──\n",
              "        ┌───┐  │   │ ├───┤  │     └─┬─┘└─┬─┘  │  \n",
              "q_1: |0>┤ X ├──■───X─┤ X ├──■───X───┼────┼────■──\n",
              "        └───┘┌─┴─┐ │ └───┘  │   │   │    │    │  \n",
              "q_2: |0>─────┤ X ├─■────────┼───X───■────┼────┼──\n",
              "             └───┘        ┌─┴─┐ │        │  ┌─┴─┐\n",
              "q_3: |0>──────────────────┤ X ├─■────────■──┤ X ├\n",
              "                          └───┘             └───┘</pre>"
            ],
            "text/plain": [
              "                     ┌───┐        ┌───┐┌───┐     \n",
              "q_0: |0>───────■───X─┤ X ├──■─────┤ X ├┤ X ├──■──\n",
              "        ┌───┐  │   │ ├───┤  │     └─┬─┘└─┬─┘  │  \n",
              "q_1: |0>┤ X ├──■───X─┤ X ├──■───X───┼────┼────■──\n",
              "        └───┘┌─┴─┐ │ └───┘  │   │   │    │    │  \n",
              "q_2: |0>─────┤ X ├─■────────┼───X───■────┼────┼──\n",
              "             └───┘        ┌─┴─┐ │        │  ┌─┴─┐\n",
              "q_3: |0>──────────────────┤ X ├─■────────■──┤ X ├\n",
              "                          └───┘             └───┘"
            ]
          },
          "metadata": {
            "tags": []
          },
          "execution_count": 17
        }
      ]
    }
  ]
}